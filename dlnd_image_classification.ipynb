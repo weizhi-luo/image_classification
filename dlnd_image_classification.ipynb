{
 "cells": [
  {
   "cell_type": "markdown",
   "metadata": {
    "collapsed": true
   },
   "source": [
    "# Image Classification\n",
    "In this project, you'll classify images from the [CIFAR-10 dataset](https://www.cs.toronto.edu/~kriz/cifar.html).  The dataset consists of airplanes, dogs, cats, and other objects. You'll preprocess the images, then train a convolutional neural network on all the samples. The images need to be normalized and the labels need to be one-hot encoded.  You'll get to apply what you learned and build a convolutional, max pooling, dropout, and fully connected layers.  At the end, you'll get to see your neural network's predictions on the sample images.\n",
    "## Get the Data\n",
    "Run the following cell to download the [CIFAR-10 dataset for python](https://www.cs.toronto.edu/~kriz/cifar-10-python.tar.gz)."
   ]
  },
  {
   "cell_type": "code",
   "execution_count": 1,
   "metadata": {},
   "outputs": [
    {
     "name": "stdout",
     "output_type": "stream",
     "text": [
      "All files found!\n"
     ]
    }
   ],
   "source": [
    "\"\"\"\n",
    "DON'T MODIFY ANYTHING IN THIS CELL THAT IS BELOW THIS LINE\n",
    "\"\"\"\n",
    "from urllib.request import urlretrieve\n",
    "from os.path import isfile, isdir\n",
    "from tqdm import tqdm\n",
    "import problem_unittests as tests\n",
    "import tarfile\n",
    "\n",
    "cifar10_dataset_folder_path = 'cifar-10-batches-py'\n",
    "\n",
    "# Use Floyd's cifar-10 dataset if present\n",
    "floyd_cifar10_location = '/input/cifar-10/python.tar.gz'\n",
    "if isfile(floyd_cifar10_location):\n",
    "    tar_gz_path = floyd_cifar10_location\n",
    "else:\n",
    "    tar_gz_path = 'cifar-10-python.tar.gz'\n",
    "\n",
    "class DLProgress(tqdm):\n",
    "    last_block = 0\n",
    "\n",
    "    def hook(self, block_num=1, block_size=1, total_size=None):\n",
    "        self.total = total_size\n",
    "        self.update((block_num - self.last_block) * block_size)\n",
    "        self.last_block = block_num\n",
    "\n",
    "if not isfile(tar_gz_path):\n",
    "    with DLProgress(unit='B', unit_scale=True, miniters=1, desc='CIFAR-10 Dataset') as pbar:\n",
    "        urlretrieve(\n",
    "            'https://www.cs.toronto.edu/~kriz/cifar-10-python.tar.gz',\n",
    "            tar_gz_path,\n",
    "            pbar.hook)\n",
    "\n",
    "if not isdir(cifar10_dataset_folder_path):\n",
    "    with tarfile.open(tar_gz_path) as tar:\n",
    "        tar.extractall()\n",
    "        tar.close()\n",
    "\n",
    "\n",
    "tests.test_folder_path(cifar10_dataset_folder_path)"
   ]
  },
  {
   "cell_type": "markdown",
   "metadata": {},
   "source": [
    "## Explore the Data\n",
    "The dataset is broken into batches to prevent your machine from running out of memory.  The CIFAR-10 dataset consists of 5 batches, named `data_batch_1`, `data_batch_2`, etc.. Each batch contains the labels and images that are one of the following:\n",
    "* airplane\n",
    "* automobile\n",
    "* bird\n",
    "* cat\n",
    "* deer\n",
    "* dog\n",
    "* frog\n",
    "* horse\n",
    "* ship\n",
    "* truck\n",
    "\n",
    "Understanding a dataset is part of making predictions on the data.  Play around with the code cell below by changing the `batch_id` and `sample_id`. The `batch_id` is the id for a batch (1-5). The `sample_id` is the id for a image and label pair in the batch.\n",
    "\n",
    "Ask yourself \"What are all possible labels?\", \"What is the range of values for the image data?\", \"Are the labels in order or random?\".  Answers to questions like these will help you preprocess the data and end up with better predictions."
   ]
  },
  {
   "cell_type": "code",
   "execution_count": 2,
   "metadata": {},
   "outputs": [
    {
     "name": "stdout",
     "output_type": "stream",
     "text": [
      "\n",
      "Stats of batch 4:\n",
      "Samples: 10000\n",
      "Label Counts: {0: 1003, 1: 963, 2: 1041, 3: 976, 4: 1004, 5: 1021, 6: 1004, 7: 981, 8: 1024, 9: 983}\n",
      "First 20 Labels: [0, 6, 0, 2, 7, 2, 1, 2, 4, 1, 5, 6, 6, 3, 1, 3, 5, 5, 8, 1]\n",
      "\n",
      "Example of Image 67:\n",
      "Image - Min Value: 0 Max Value: 208\n",
      "Image - Shape: (32, 32, 3)\n",
      "Label - Label Id: 2 Name: bird\n"
     ]
    },
    {
     "data": {
      "image/png": "[encoded data removed]",
      "text/plain": [
       "<matplotlib.figure.Figure at 0x7fbbcbeeb6a0>"
      ]
     },
     "metadata": {
      "image/png": {
       "height": 250,
       "width": 253
      }
     },
     "output_type": "display_data"
    }
   ],
   "source": [
    "%matplotlib inline\n",
    "%config InlineBackend.figure_format = 'retina'\n",
    "\n",
    "import helper\n",
    "import numpy as np\n",
    "\n",
    "# Explore the dataset\n",
    "batch_id = 4\n",
    "sample_id = 67\n",
    "helper.display_stats(cifar10_dataset_folder_path, batch_id, sample_id)"
   ]
  },
  {
   "cell_type": "markdown",
   "metadata": {},
   "source": [
    "## Implement Preprocess Functions\n",
    "### Normalize\n",
    "In the cell below, implement the `normalize` function to take in image data, `x`, and return it as a normalized Numpy array. The values should be in the range of 0 to 1, inclusive.  The return object should be the same shape as `x`."
   ]
  },
  {
   "cell_type": "code",
   "execution_count": 36,
   "metadata": {},
   "outputs": [
    {
     "name": "stdout",
     "output_type": "stream",
     "text": [
      "Tests Passed\n"
     ]
    }
   ],
   "source": [
    "def normalize(x):\n",
    "    \"\"\"\n",
    "    Normalize a list of sample image data in the range of 0 to 1\n",
    "    : x: List of image data.  The image shape is (32, 32, 3)\n",
    "    : return: Numpy array of normalize data\n",
    "    \"\"\"\n",
    "    # TODO: Implement Function\n",
    "    return np.array((x - np.min(x)) * 1.0 / (np.max(x) - np.min(x)))\n",
    "\n",
    "\n",
    "\"\"\"\n",
    "DON'T MODIFY ANYTHING IN THIS CELL THAT IS BELOW THIS LINE\n",
    "\"\"\"\n",
    "tests.test_normalize(normalize)"
   ]
  },
  {
   "cell_type": "markdown",
   "metadata": {},
   "source": [
    "### One-hot encode\n",
    "Just like the previous code cell, you'll be implementing a function for preprocessing.  This time, you'll implement the `one_hot_encode` function. The input, `x`, are a list of labels.  Implement the function to return the list of labels as One-Hot encoded Numpy array.  The possible values for labels are 0 to 9. The one-hot encoding function should return the same encoding for each value between each call to `one_hot_encode`.  Make sure to save the map of encodings outside the function.\n",
    "\n",
    "Hint: Don't reinvent the wheel."
   ]
  },
  {
   "cell_type": "code",
   "execution_count": 37,
   "metadata": {},
   "outputs": [
    {
     "name": "stdout",
     "output_type": "stream",
     "text": [
      "Tests Passed\n"
     ]
    }
   ],
   "source": [
    "def one_hot_encode(x):\n",
    "    \"\"\"\n",
    "    One hot encode a list of sample labels. Return a one-hot encoded vector for each label.\n",
    "    : x: List of sample Labels\n",
    "    : return: Numpy array of one-hot encoded labels\n",
    "    \"\"\"\n",
    "    # TODO: Implement Function\n",
    "    result = np.zeros((len(x),10))\n",
    "    result[np.arange(len(x)), x] = 1\n",
    "    return result\n",
    "\n",
    "\n",
    "\"\"\"\n",
    "DON'T MODIFY ANYTHING IN THIS CELL THAT IS BELOW THIS LINE\n",
    "\"\"\"\n",
    "tests.test_one_hot_encode(one_hot_encode)"
   ]
  },
  {
   "cell_type": "markdown",
   "metadata": {},
   "source": [
    "### Randomize Data\n",
    "As you saw from exploring the data above, the order of the samples are randomized.  It doesn't hurt to randomize it again, but you don't need to for this dataset."
   ]
  },
  {
   "cell_type": "markdown",
   "metadata": {},
   "source": [
    "## Preprocess all the data and save it\n",
    "Running the code cell below will preprocess all the CIFAR-10 data and save it to file. The code below also uses 10% of the training data for validation."
   ]
  },
  {
   "cell_type": "code",
   "execution_count": 38,
   "metadata": {
    "collapsed": true
   },
   "outputs": [],
   "source": [
    "\"\"\"\n",
    "DON'T MODIFY ANYTHING IN THIS CELL\n",
    "\"\"\"\n",
    "# Preprocess Training, Validation, and Testing Data\n",
    "helper.preprocess_and_save_data(cifar10_dataset_folder_path, normalize, one_hot_encode)"
   ]
  },
  {
   "cell_type": "markdown",
   "metadata": {},
   "source": [
    "# Check Point\n",
    "This is your first checkpoint.  If you ever decide to come back to this notebook or have to restart the notebook, you can start from here.  The preprocessed data has been saved to disk."
   ]
  },
  {
   "cell_type": "code",
   "execution_count": 39,
   "metadata": {
    "collapsed": true
   },
   "outputs": [],
   "source": [
    "\"\"\"\n",
    "DON'T MODIFY ANYTHING IN THIS CELL\n",
    "\"\"\"\n",
    "import pickle\n",
    "import problem_unittests as tests\n",
    "import helper\n",
    "\n",
    "# Load the Preprocessed Validation data\n",
    "valid_features, valid_labels = pickle.load(open('preprocess_validation.p', mode='rb'))"
   ]
  },
  {
   "cell_type": "markdown",
   "metadata": {},
   "source": [
    "## Build the network\n",
    "For the neural network, you'll build each layer into a function.  Most of the code you've seen has been outside of functions. To test your code more thoroughly, we require that you put each layer in a function.  This allows us to give you better feedback and test for simple mistakes using our unittests before you submit your project.\n",
    "\n",
    ">**Note:** If you're finding it hard to dedicate enough time for this course each week, we've provided a small shortcut to this part of the project. In the next couple of problems, you'll have the option to use classes from the [TensorFlow Layers](https://www.tensorflow.org/api_docs/python/tf/layers) or [TensorFlow Layers (contrib)](https://www.tensorflow.org/api_guides/python/contrib.layers) packages to build each layer, except the layers you build in the \"Convolutional and Max Pooling Layer\" section.  TF Layers is similar to Keras's and TFLearn's abstraction to layers, so it's easy to pickup.\n",
    "\n",
    ">However, if you would like to get the most out of this course, try to solve all the problems _without_ using anything from the TF Layers packages. You **can** still use classes from other packages that happen to have the same name as ones you find in TF Layers! For example, instead of using the TF Layers version of the `conv2d` class, [tf.layers.conv2d](https://www.tensorflow.org/api_docs/python/tf/layers/conv2d), you would want to use the TF Neural Network version of `conv2d`, [tf.nn.conv2d](https://www.tensorflow.org/api_docs/python/tf/nn/conv2d). \n",
    "\n",
    "Let's begin!\n",
    "\n",
    "### Input\n",
    "The neural network needs to read the image data, one-hot encoded labels, and dropout keep probability. Implement the following functions\n",
    "* Implement `neural_net_image_input`\n",
    " * Return a [TF Placeholder](https://www.tensorflow.org/api_docs/python/tf/placeholder)\n",
    " * Set the shape using `image_shape` with batch size set to `None`.\n",
    " * Name the TensorFlow placeholder \"x\" using the TensorFlow `name` parameter in the [TF Placeholder](https://www.tensorflow.org/api_docs/python/tf/placeholder).\n",
    "* Implement `neural_net_label_input`\n",
    " * Return a [TF Placeholder](https://www.tensorflow.org/api_docs/python/tf/placeholder)\n",
    " * Set the shape using `n_classes` with batch size set to `None`.\n",
    " * Name the TensorFlow placeholder \"y\" using the TensorFlow `name` parameter in the [TF Placeholder](https://www.tensorflow.org/api_docs/python/tf/placeholder).\n",
    "* Implement `neural_net_keep_prob_input`\n",
    " * Return a [TF Placeholder](https://www.tensorflow.org/api_docs/python/tf/placeholder) for dropout keep probability.\n",
    " * Name the TensorFlow placeholder \"keep_prob\" using the TensorFlow `name` parameter in the [TF Placeholder](https://www.tensorflow.org/api_docs/python/tf/placeholder).\n",
    "\n",
    "These names will be used at the end of the project to load your saved model.\n",
    "\n",
    "Note: `None` for shapes in TensorFlow allow for a dynamic size."
   ]
  },
  {
   "cell_type": "code",
   "execution_count": 40,
   "metadata": {},
   "outputs": [
    {
     "name": "stdout",
     "output_type": "stream",
     "text": [
      "Image Input Tests Passed.\n",
      "Label Input Tests Passed.\n",
      "Keep Prob Tests Passed.\n"
     ]
    }
   ],
   "source": [
    "import tensorflow as tf\n",
    "\n",
    "def neural_net_image_input(image_shape):\n",
    "    \"\"\"\n",
    "    Return a Tensor for a bach of image input\n",
    "    : image_shape: Shape of the images\n",
    "    : return: Tensor for image input.\n",
    "    \"\"\"\n",
    "    # TODO: Implement Function\n",
    "    input_shape = [None]\n",
    "    input_shape.extend([x for x in image_shape])\n",
    "    return tf.placeholder(tf.float32, shape=input_shape, name='x')\n",
    "\n",
    "\n",
    "def neural_net_label_input(n_classes):\n",
    "    \"\"\"\n",
    "    Return a Tensor for a batch of label input\n",
    "    : n_classes: Number of classes\n",
    "    : return: Tensor for label input.\n",
    "    \"\"\"\n",
    "    # TODO: Implement Function\n",
    "    return tf.placeholder(tf.float32, shape=[None, n_classes], name='y')\n",
    "\n",
    "\n",
    "def neural_net_keep_prob_input():\n",
    "    \"\"\"\n",
    "    Return a Tensor for keep probability\n",
    "    : return: Tensor for keep probability.\n",
    "    \"\"\"\n",
    "    # TODO: Implement Function\n",
    "    return tf.placeholder(tf.float32, name='keep_prob')\n",
    "\n",
    "\n",
    "\"\"\"\n",
    "DON'T MODIFY ANYTHING IN THIS CELL THAT IS BELOW THIS LINE\n",
    "\"\"\"\n",
    "tf.reset_default_graph()\n",
    "tests.test_nn_image_inputs(neural_net_image_input)\n",
    "tests.test_nn_label_inputs(neural_net_label_input)\n",
    "tests.test_nn_keep_prob_inputs(neural_net_keep_prob_input)"
   ]
  },
  {
   "cell_type": "markdown",
   "metadata": {},
   "source": [
    "### Convolution and Max Pooling Layer\n",
    "Convolution layers have a lot of success with images. For this code cell, you should implement the function `conv2d_maxpool` to apply convolution then max pooling:\n",
    "* Create the weight and bias using `conv_ksize`, `conv_num_outputs` and the shape of `x_tensor`.\n",
    "* Apply a convolution to `x_tensor` using weight and `conv_strides`.\n",
    " * We recommend you use same padding, but you're welcome to use any padding.\n",
    "* Add bias\n",
    "* Add a nonlinear activation to the convolution.\n",
    "* Apply Max Pooling using `pool_ksize` and `pool_strides`.\n",
    " * We recommend you use same padding, but you're welcome to use any padding.\n",
    "\n",
    "**Note:** You **can't** use [TensorFlow Layers](https://www.tensorflow.org/api_docs/python/tf/layers) or [TensorFlow Layers (contrib)](https://www.tensorflow.org/api_guides/python/contrib.layers) for **this** layer, but you can still use TensorFlow's [Neural Network](https://www.tensorflow.org/api_docs/python/tf/nn) package. You may still use the shortcut option for all the **other** layers."
   ]
  },
  {
   "cell_type": "code",
   "execution_count": 41,
   "metadata": {},
   "outputs": [
    {
     "name": "stdout",
     "output_type": "stream",
     "text": [
      "Tests Passed\n"
     ]
    }
   ],
   "source": [
    "def conv2d_maxpool(x_tensor, conv_num_outputs, conv_ksize, conv_strides, pool_ksize, pool_strides):\n",
    "    \"\"\"\n",
    "    Apply convolution then max pooling to x_tensor\n",
    "    :param x_tensor: TensorFlow Tensor\n",
    "    :param conv_num_outputs: Number of outputs for the convolutional layer\n",
    "    :param conv_ksize: kernal size 2-D Tuple for the convolutional layer\n",
    "    :param conv_strides: Stride 2-D Tuple for convolution\n",
    "    :param pool_ksize: kernal size 2-D Tuple for pool\n",
    "    :param pool_strides: Stride 2-D Tuple for pool\n",
    "    : return: A tensor that represents convolution and max pooling of x_tensor\n",
    "    \"\"\"\n",
    "    # TODO: Implement Function\n",
    "    channel_size = x_tensor.get_shape().as_list()[-1]\n",
    "    conv_size_h = conv_ksize[0]\n",
    "    conv_size_v = conv_ksize[1]\n",
    "    conv_strides_h = conv_strides[0]\n",
    "    conv_strides_v = conv_strides[1]\n",
    "    pool_size_h = pool_ksize[0]\n",
    "    pool_size_v = pool_ksize[1]\n",
    "    pool_strides_h = pool_strides[0]\n",
    "    pool_strides_v = pool_strides[1]\n",
    "    \n",
    "    weights = tf.Variable(tf.truncated_normal([conv_size_h, conv_size_v, channel_size, conv_num_outputs], mean=0.0, stddev=0.1))\n",
    "    bias = tf.Variable(tf.zeros(conv_num_outputs))\n",
    "    \n",
    "    conv = tf.nn.conv2d(x_tensor, weights, strides=[1, conv_strides_h, conv_strides_v, 1], padding='SAME')\n",
    "    conv = tf.nn.bias_add(conv, bias)\n",
    "    conv = tf.nn.relu(conv)\n",
    "    conv = tf.nn.max_pool(conv, ksize=[1, pool_size_h, pool_size_v, 1], strides=[1, pool_strides_h, pool_strides_v, 1], padding='SAME')\n",
    "    \n",
    "    return conv\n",
    "\n",
    "\n",
    "\"\"\"\n",
    "DON'T MODIFY ANYTHING IN THIS CELL THAT IS BELOW THIS LINE\n",
    "\"\"\"\n",
    "tests.test_con_pool(conv2d_maxpool)"
   ]
  },
  {
   "cell_type": "markdown",
   "metadata": {},
   "source": [
    "### Flatten Layer\n",
    "Implement the `flatten` function to change the dimension of `x_tensor` from a 4-D tensor to a 2-D tensor.  The output should be the shape (*Batch Size*, *Flattened Image Size*). Shortcut option: you can use classes from the [TensorFlow Layers](https://www.tensorflow.org/api_docs/python/tf/layers) or [TensorFlow Layers (contrib)](https://www.tensorflow.org/api_guides/python/contrib.layers) packages for this layer. For more of a challenge, only use other TensorFlow packages."
   ]
  },
  {
   "cell_type": "code",
   "execution_count": 42,
   "metadata": {},
   "outputs": [
    {
     "name": "stdout",
     "output_type": "stream",
     "text": [
      "Tests Passed\n"
     ]
    }
   ],
   "source": [
    "def flatten(x_tensor):\n",
    "    \"\"\"\n",
    "    Flatten x_tensor to (Batch Size, Flattened Image Size)\n",
    "    : x_tensor: A tensor of size (Batch Size, ...), where ... are the image dimensions.\n",
    "    : return: A tensor of size (Batch Size, Flattened Image Size).\n",
    "    \"\"\"\n",
    "    # TODO: Implement Function\n",
    "    size = 1\n",
    "    for d in x_tensor.get_shape().as_list()[1:]:\n",
    "        size *= d\n",
    "    \n",
    "    return tf.reshape(x_tensor, [-1, size])\n",
    "\n",
    "\n",
    "\"\"\"\n",
    "DON'T MODIFY ANYTHING IN THIS CELL THAT IS BELOW THIS LINE\n",
    "\"\"\"\n",
    "tests.test_flatten(flatten)"
   ]
  },
  {
   "cell_type": "markdown",
   "metadata": {},
   "source": [
    "### Fully-Connected Layer\n",
    "Implement the `fully_conn` function to apply a fully connected layer to `x_tensor` with the shape (*Batch Size*, *num_outputs*). Shortcut option: you can use classes from the [TensorFlow Layers](https://www.tensorflow.org/api_docs/python/tf/layers) or [TensorFlow Layers (contrib)](https://www.tensorflow.org/api_guides/python/contrib.layers) packages for this layer. For more of a challenge, only use other TensorFlow packages."
   ]
  },
  {
   "cell_type": "code",
   "execution_count": 43,
   "metadata": {},
   "outputs": [
    {
     "name": "stdout",
     "output_type": "stream",
     "text": [
      "Tests Passed\n"
     ]
    }
   ],
   "source": [
    "def fully_conn(x_tensor, num_outputs):\n",
    "    \"\"\"\n",
    "    Apply a fully connected layer to x_tensor using weight and bias\n",
    "    : x_tensor: A 2-D tensor where the first dimension is batch size.\n",
    "    : num_outputs: The number of output that the new tensor should be.\n",
    "    : return: A 2-D tensor where the second dimension is num_outputs.\n",
    "    \"\"\"\n",
    "    # TODO: Implement Function\n",
    "    num_inputs = x_tensor.get_shape().as_list()[-1]\n",
    "    weights = tf.Variable(tf.truncated_normal([num_inputs, num_outputs], mean=0.0, stddev=0.1))\n",
    "    bias = tf.Variable(tf.zeros(num_outputs))\n",
    "    \n",
    "    output = tf.add(tf.matmul(x_tensor, weights), bias)\n",
    "    output = tf.nn.relu(output)\n",
    "    \n",
    "    return output\n",
    "\n",
    "\n",
    "\"\"\"\n",
    "DON'T MODIFY ANYTHING IN THIS CELL THAT IS BELOW THIS LINE\n",
    "\"\"\"\n",
    "tests.test_fully_conn(fully_conn)"
   ]
  },
  {
   "cell_type": "markdown",
   "metadata": {},
   "source": [
    "### Output Layer\n",
    "Implement the `output` function to apply a fully connected layer to `x_tensor` with the shape (*Batch Size*, *num_outputs*). Shortcut option: you can use classes from the [TensorFlow Layers](https://www.tensorflow.org/api_docs/python/tf/layers) or [TensorFlow Layers (contrib)](https://www.tensorflow.org/api_guides/python/contrib.layers) packages for this layer. For more of a challenge, only use other TensorFlow packages.\n",
    "\n",
    "**Note:** Activation, softmax, or cross entropy should **not** be applied to this."
   ]
  },
  {
   "cell_type": "code",
   "execution_count": 44,
   "metadata": {},
   "outputs": [
    {
     "name": "stdout",
     "output_type": "stream",
     "text": [
      "Tests Passed\n"
     ]
    }
   ],
   "source": [
    "def output(x_tensor, num_outputs):\n",
    "    \"\"\"\n",
    "    Apply a output layer to x_tensor using weight and bias\n",
    "    : x_tensor: A 2-D tensor where the first dimension is batch size.\n",
    "    : num_outputs: The number of output that the new tensor should be.\n",
    "    : return: A 2-D tensor where the second dimension is num_outputs.\n",
    "    \"\"\"\n",
    "    # TODO: Implement Function\n",
    "    num_inputs = x_tensor.get_shape().as_list()[-1]\n",
    "    weights = tf.Variable(tf.truncated_normal([num_inputs, num_outputs], mean=0.0, stddev=0.1))\n",
    "    bias = tf.Variable(tf.zeros(num_outputs))\n",
    "    \n",
    "    output = tf.add(tf.matmul(x_tensor, weights), bias)\n",
    "    \n",
    "    return output\n",
    "\n",
    "\n",
    "\"\"\"\n",
    "DON'T MODIFY ANYTHING IN THIS CELL THAT IS BELOW THIS LINE\n",
    "\"\"\"\n",
    "tests.test_output(output)"
   ]
  },
  {
   "cell_type": "markdown",
   "metadata": {},
   "source": [
    "### Create Convolutional Model\n",
    "Implement the function `conv_net` to create a convolutional neural network model. The function takes in a batch of images, `x`, and outputs logits.  Use the layers you created above to create this model:\n",
    "\n",
    "* Apply 1, 2, or 3 Convolution and Max Pool layers\n",
    "* Apply a Flatten Layer\n",
    "* Apply 1, 2, or 3 Fully Connected Layers\n",
    "* Apply an Output Layer\n",
    "* Return the output\n",
    "* Apply [TensorFlow's Dropout](https://www.tensorflow.org/api_docs/python/tf/nn/dropout) to one or more layers in the model using `keep_prob`. "
   ]
  },
  {
   "cell_type": "code",
   "execution_count": 144,
   "metadata": {},
   "outputs": [
    {
     "name": "stdout",
     "output_type": "stream",
     "text": [
      "Neural Network Built!\n"
     ]
    }
   ],
   "source": [
    "def conv_net(x, keep_prob):\n",
    "    \"\"\"\n",
    "    Create a convolutional neural network model\n",
    "    : x: Placeholder tensor that holds image data.\n",
    "    : keep_prob: Placeholder tensor that hold dropout keep probability.\n",
    "    : return: Tensor that represents logits\n",
    "    \"\"\"\n",
    "    # TODO: Apply 1, 2, or 3 Convolution and Max Pool layers\n",
    "    #    Play around with different number of outputs, kernel size and stride\n",
    "    # Function Definition from Above:\n",
    "    #    conv2d_maxpool(x_tensor, conv_num_outputs, conv_ksize, conv_strides, pool_ksize, pool_strides)\n",
    "    conv = conv2d_maxpool(x, 32, (2,2), (1,1), (2,2), (2,2))\n",
    "    conv = conv2d_maxpool(conv, 64, (2,2), (1,1), (2,2), (2,2))\n",
    "    conv = conv2d_maxpool(conv, 128, (2,2), (1,1), (2,2), (2,2))\n",
    "    \n",
    "\n",
    "    # TODO: Apply a Flatten Layer\n",
    "    # Function Definition from Above:\n",
    "    #   flatten(x_tensor)\n",
    "    flat = flatten(conv)\n",
    "    \n",
    "\n",
    "    # TODO: Apply 1, 2, or 3 Fully Connected Layers\n",
    "    #    Play around with different number of outputs\n",
    "    # Function Definition from Above:\n",
    "    #   fully_conn(x_tensor, num_outputs)\n",
    "    fc = fully_conn(flat, 512)\n",
    "    fc = tf.nn.dropout(fc, keep_prob)\n",
    "    fc = fully_conn(fc, 256)\n",
    "    fc = tf.nn.dropout(fc, keep_prob)\n",
    "    \n",
    "    \n",
    "    # TODO: Apply an Output Layer\n",
    "    #    Set this to the number of classes\n",
    "    # Function Definition from Above:\n",
    "    #   output(x_tensor, num_outputs)\n",
    "    out = output(fc, 10)\n",
    "    \n",
    "    \n",
    "    # TODO: return output\n",
    "    return out\n",
    "\n",
    "\n",
    "\"\"\"\n",
    "DON'T MODIFY ANYTHING IN THIS CELL THAT IS BELOW THIS LINE\n",
    "\"\"\"\n",
    "\n",
    "##############################\n",
    "## Build the Neural Network ##\n",
    "##############################\n",
    "\n",
    "# Remove previous weights, bias, inputs, etc..\n",
    "tf.reset_default_graph()\n",
    "\n",
    "# Inputs\n",
    "x = neural_net_image_input((32, 32, 3))\n",
    "y = neural_net_label_input(10)\n",
    "keep_prob = neural_net_keep_prob_input()\n",
    "\n",
    "# Model\n",
    "logits = conv_net(x, keep_prob)\n",
    "\n",
    "# Name logits Tensor, so that is can be loaded from disk after training\n",
    "logits = tf.identity(logits, name='logits')\n",
    "\n",
    "# Loss and Optimizer\n",
    "cost = tf.reduce_mean(tf.nn.softmax_cross_entropy_with_logits(logits=logits, labels=y))\n",
    "optimizer = tf.train.AdamOptimizer().minimize(cost)\n",
    "\n",
    "# Accuracy\n",
    "correct_pred = tf.equal(tf.argmax(logits, 1), tf.argmax(y, 1))\n",
    "accuracy = tf.reduce_mean(tf.cast(correct_pred, tf.float32), name='accuracy')\n",
    "\n",
    "tests.test_conv_net(conv_net)"
   ]
  },
  {
   "cell_type": "markdown",
   "metadata": {},
   "source": [
    "## Train the Neural Network\n",
    "### Single Optimization\n",
    "Implement the function `train_neural_network` to do a single optimization.  The optimization should use `optimizer` to optimize in `session` with a `feed_dict` of the following:\n",
    "* `x` for image input\n",
    "* `y` for labels\n",
    "* `keep_prob` for keep probability for dropout\n",
    "\n",
    "This function will be called for each batch, so `tf.global_variables_initializer()` has already been called.\n",
    "\n",
    "Note: Nothing needs to be returned. This function is only optimizing the neural network."
   ]
  },
  {
   "cell_type": "code",
   "execution_count": 145,
   "metadata": {},
   "outputs": [
    {
     "name": "stdout",
     "output_type": "stream",
     "text": [
      "Tests Passed\n"
     ]
    }
   ],
   "source": [
    "def train_neural_network(session, optimizer, keep_probability, feature_batch, label_batch):\n",
    "    \"\"\"\n",
    "    Optimize the session on a batch of images and labels\n",
    "    : session: Current TensorFlow session\n",
    "    : optimizer: TensorFlow optimizer function\n",
    "    : keep_probability: keep probability\n",
    "    : feature_batch: Batch of Numpy image data\n",
    "    : label_batch: Batch of Numpy label data\n",
    "    \"\"\"\n",
    "    # TODO: Implement Function\n",
    "    session.run(optimizer, feed_dict={x: feature_batch, y: label_batch, keep_prob: keep_probability})\n",
    "\n",
    "\n",
    "\"\"\"\n",
    "DON'T MODIFY ANYTHING IN THIS CELL THAT IS BELOW THIS LINE\n",
    "\"\"\"\n",
    "tests.test_train_nn(train_neural_network)"
   ]
  },
  {
   "cell_type": "markdown",
   "metadata": {},
   "source": [
    "### Show Stats\n",
    "Implement the function `print_stats` to print loss and validation accuracy.  Use the global variables `valid_features` and `valid_labels` to calculate validation accuracy.  Use a keep probability of `1.0` to calculate the loss and validation accuracy."
   ]
  },
  {
   "cell_type": "code",
   "execution_count": 146,
   "metadata": {
    "collapsed": true
   },
   "outputs": [],
   "source": [
    "def print_stats(session, feature_batch, label_batch, cost, accuracy):\n",
    "    \"\"\"\n",
    "    Print information about loss and validation accuracy\n",
    "    : session: Current TensorFlow session\n",
    "    : feature_batch: Batch of Numpy image data\n",
    "    : label_batch: Batch of Numpy label data\n",
    "    : cost: TensorFlow cost function\n",
    "    : accuracy: TensorFlow accuracy function\n",
    "    \"\"\"\n",
    "    # TODO: Implement Function\n",
    "    loss = session.run(cost, feed_dict={x: feature_batch, y: label_batch, keep_prob: 1.0})\n",
    "    valid_acc = session.run(accuracy, feed_dict={x: valid_features, y: valid_labels, keep_prob: 1.0})\n",
    "    \n",
    "    print('Loss: {:>10.4f} Validation Accuracy: {:.6f}'.format(loss, valid_acc))\n",
    "        "
   ]
  },
  {
   "cell_type": "markdown",
   "metadata": {},
   "source": [
    "### Hyperparameters\n",
    "Tune the following parameters:\n",
    "* Set `epochs` to the number of iterations until the network stops learning or start overfitting\n",
    "* Set `batch_size` to the highest number that your machine has memory for.  Most people set them to common sizes of memory:\n",
    " * 64\n",
    " * 128\n",
    " * 256\n",
    " * ...\n",
    "* Set `keep_probability` to the probability of keeping a node using dropout"
   ]
  },
  {
   "cell_type": "code",
   "execution_count": 147,
   "metadata": {
    "collapsed": true
   },
   "outputs": [],
   "source": [
    "# TODO: Tune Parameters\n",
    "epochs = 40\n",
    "batch_size = 256\n",
    "keep_probability = 0.75"
   ]
  },
  {
   "cell_type": "markdown",
   "metadata": {},
   "source": [
    "### Train on a Single CIFAR-10 Batch\n",
    "Instead of training the neural network on all the CIFAR-10 batches of data, let's use a single batch. This should save time while you iterate on the model to get a better accuracy.  Once the final validation accuracy is 50% or greater, run the model on all the data in the next section."
   ]
  },
  {
   "cell_type": "code",
   "execution_count": 148,
   "metadata": {},
   "outputs": [
    {
     "name": "stdout",
     "output_type": "stream",
     "text": [
      "Checking the Training on a Single Batch...\n",
      "Epoch  1, CIFAR-10 Batch 1:  Loss:     2.0842 Validation Accuracy: 0.322400\n",
      "Epoch  2, CIFAR-10 Batch 1:  Loss:     1.7583 Validation Accuracy: 0.416000\n",
      "Epoch  3, CIFAR-10 Batch 1:  Loss:     1.5417 Validation Accuracy: 0.460400\n",
      "Epoch  4, CIFAR-10 Batch 1:  Loss:     1.2921 Validation Accuracy: 0.491200\n",
      "Epoch  5, CIFAR-10 Batch 1:  Loss:     1.0964 Validation Accuracy: 0.518400\n",
      "Epoch  6, CIFAR-10 Batch 1:  Loss:     0.9470 Validation Accuracy: 0.525200\n",
      "Epoch  7, CIFAR-10 Batch 1:  Loss:     0.8023 Validation Accuracy: 0.547200\n",
      "Epoch  8, CIFAR-10 Batch 1:  Loss:     0.7079 Validation Accuracy: 0.564600\n",
      "Epoch  9, CIFAR-10 Batch 1:  Loss:     0.5547 Validation Accuracy: 0.581400\n",
      "Epoch 10, CIFAR-10 Batch 1:  Loss:     0.4333 Validation Accuracy: 0.590200\n",
      "Epoch 11, CIFAR-10 Batch 1:  Loss:     0.3716 Validation Accuracy: 0.594400\n",
      "Epoch 12, CIFAR-10 Batch 1:  Loss:     0.3393 Validation Accuracy: 0.571600\n",
      "Epoch 13, CIFAR-10 Batch 1:  Loss:     0.2812 Validation Accuracy: 0.560600\n",
      "Epoch 14, CIFAR-10 Batch 1:  Loss:     0.2245 Validation Accuracy: 0.564400\n",
      "Epoch 15, CIFAR-10 Batch 1:  Loss:     0.1450 Validation Accuracy: 0.601000\n",
      "Epoch 16, CIFAR-10 Batch 1:  Loss:     0.1355 Validation Accuracy: 0.597400\n",
      "Epoch 17, CIFAR-10 Batch 1:  Loss:     0.1021 Validation Accuracy: 0.580400\n",
      "Epoch 18, CIFAR-10 Batch 1:  Loss:     0.0838 Validation Accuracy: 0.570600\n",
      "Epoch 19, CIFAR-10 Batch 1:  Loss:     0.0518 Validation Accuracy: 0.610400\n",
      "Epoch 20, CIFAR-10 Batch 1:  Loss:     0.0447 Validation Accuracy: 0.607200\n",
      "Epoch 21, CIFAR-10 Batch 1:  Loss:     0.0427 Validation Accuracy: 0.603200\n",
      "Epoch 22, CIFAR-10 Batch 1:  Loss:     0.0207 Validation Accuracy: 0.614600\n",
      "Epoch 23, CIFAR-10 Batch 1:  Loss:     0.0183 Validation Accuracy: 0.612200\n",
      "Epoch 24, CIFAR-10 Batch 1:  Loss:     0.0161 Validation Accuracy: 0.620800\n",
      "Epoch 25, CIFAR-10 Batch 1:  Loss:     0.0198 Validation Accuracy: 0.616400\n",
      "Epoch 26, CIFAR-10 Batch 1:  Loss:     0.0157 Validation Accuracy: 0.612400\n",
      "Epoch 27, CIFAR-10 Batch 1:  Loss:     0.0165 Validation Accuracy: 0.606200\n",
      "Epoch 28, CIFAR-10 Batch 1:  Loss:     0.0124 Validation Accuracy: 0.590200\n",
      "Epoch 29, CIFAR-10 Batch 1:  Loss:     0.0117 Validation Accuracy: 0.585400\n",
      "Epoch 30, CIFAR-10 Batch 1:  Loss:     0.0214 Validation Accuracy: 0.605600\n",
      "Epoch 31, CIFAR-10 Batch 1:  Loss:     0.0061 Validation Accuracy: 0.607600\n",
      "Epoch 32, CIFAR-10 Batch 1:  Loss:     0.0061 Validation Accuracy: 0.581800\n",
      "Epoch 33, CIFAR-10 Batch 1:  Loss:     0.0039 Validation Accuracy: 0.568200\n",
      "Epoch 34, CIFAR-10 Batch 1:  Loss:     0.0057 Validation Accuracy: 0.595000\n",
      "Epoch 35, CIFAR-10 Batch 1:  Loss:     0.0045 Validation Accuracy: 0.599200\n",
      "Epoch 36, CIFAR-10 Batch 1:  Loss:     0.0011 Validation Accuracy: 0.613200\n",
      "Epoch 37, CIFAR-10 Batch 1:  Loss:     0.0015 Validation Accuracy: 0.620400\n",
      "Epoch 38, CIFAR-10 Batch 1:  Loss:     0.0016 Validation Accuracy: 0.633200\n",
      "Epoch 39, CIFAR-10 Batch 1:  Loss:     0.0006 Validation Accuracy: 0.618800\n",
      "Epoch 40, CIFAR-10 Batch 1:  Loss:     0.0006 Validation Accuracy: 0.619800\n"
     ]
    }
   ],
   "source": [
    "\"\"\"\n",
    "DON'T MODIFY ANYTHING IN THIS CELL\n",
    "\"\"\"\n",
    "print('Checking the Training on a Single Batch...')\n",
    "with tf.Session() as sess:\n",
    "    # Initializing the variables\n",
    "    sess.run(tf.global_variables_initializer())\n",
    "    \n",
    "    # Training cycle\n",
    "    for epoch in range(epochs):\n",
    "        batch_i = 1\n",
    "        for batch_features, batch_labels in helper.load_preprocess_training_batch(batch_i, batch_size):\n",
    "            train_neural_network(sess, optimizer, keep_probability, batch_features, batch_labels)\n",
    "        print('Epoch {:>2}, CIFAR-10 Batch {}:  '.format(epoch + 1, batch_i), end='')\n",
    "        print_stats(sess, batch_features, batch_labels, cost, accuracy)"
   ]
  },
  {
   "cell_type": "markdown",
   "metadata": {},
   "source": [
    "### Fully Train the Model\n",
    "Now that you got a good accuracy with a single CIFAR-10 batch, try it with all five batches."
   ]
  },
  {
   "cell_type": "code",
   "execution_count": 149,
   "metadata": {},
   "outputs": [
    {
     "name": "stdout",
     "output_type": "stream",
     "text": [
      "Training...\n",
      "Epoch  1, CIFAR-10 Batch 1:  Loss:     2.0729 Validation Accuracy: 0.329200\n",
      "Epoch  1, CIFAR-10 Batch 2:  Loss:     1.5802 Validation Accuracy: 0.419400\n",
      "Epoch  1, CIFAR-10 Batch 3:  Loss:     1.2043 Validation Accuracy: 0.447800\n",
      "Epoch  1, CIFAR-10 Batch 4:  Loss:     1.3884 Validation Accuracy: 0.493800\n",
      "Epoch  1, CIFAR-10 Batch 5:  Loss:     1.3634 Validation Accuracy: 0.494200\n",
      "Epoch  2, CIFAR-10 Batch 1:  Loss:     1.5051 Validation Accuracy: 0.534200\n",
      "Epoch  2, CIFAR-10 Batch 2:  Loss:     1.1780 Validation Accuracy: 0.538200\n",
      "Epoch  2, CIFAR-10 Batch 3:  Loss:     0.9297 Validation Accuracy: 0.512800\n",
      "Epoch  2, CIFAR-10 Batch 4:  Loss:     1.0048 Validation Accuracy: 0.574000\n",
      "Epoch  2, CIFAR-10 Batch 5:  Loss:     1.0045 Validation Accuracy: 0.574000\n",
      "Epoch  3, CIFAR-10 Batch 1:  Loss:     1.0795 Validation Accuracy: 0.591000\n",
      "Epoch  3, CIFAR-10 Batch 2:  Loss:     0.9037 Validation Accuracy: 0.593800\n",
      "Epoch  3, CIFAR-10 Batch 3:  Loss:     0.7015 Validation Accuracy: 0.586200\n",
      "Epoch  3, CIFAR-10 Batch 4:  Loss:     0.7970 Validation Accuracy: 0.607000\n",
      "Epoch  3, CIFAR-10 Batch 5:  Loss:     0.7550 Validation Accuracy: 0.625400\n",
      "Epoch  4, CIFAR-10 Batch 1:  Loss:     0.8871 Validation Accuracy: 0.629000\n",
      "Epoch  4, CIFAR-10 Batch 2:  Loss:     0.6826 Validation Accuracy: 0.628400\n",
      "Epoch  4, CIFAR-10 Batch 3:  Loss:     0.5144 Validation Accuracy: 0.622400\n",
      "Epoch  4, CIFAR-10 Batch 4:  Loss:     0.6337 Validation Accuracy: 0.640000\n",
      "Epoch  4, CIFAR-10 Batch 5:  Loss:     0.5167 Validation Accuracy: 0.653800\n",
      "Epoch  5, CIFAR-10 Batch 1:  Loss:     0.6515 Validation Accuracy: 0.663800\n",
      "Epoch  5, CIFAR-10 Batch 2:  Loss:     0.4731 Validation Accuracy: 0.662000\n",
      "Epoch  5, CIFAR-10 Batch 3:  Loss:     0.3922 Validation Accuracy: 0.661200\n",
      "Epoch  5, CIFAR-10 Batch 4:  Loss:     0.5262 Validation Accuracy: 0.675200\n",
      "Epoch  5, CIFAR-10 Batch 5:  Loss:     0.4240 Validation Accuracy: 0.641800\n",
      "Epoch  6, CIFAR-10 Batch 1:  Loss:     0.4823 Validation Accuracy: 0.665800\n",
      "Epoch  6, CIFAR-10 Batch 2:  Loss:     0.3698 Validation Accuracy: 0.652000\n",
      "Epoch  6, CIFAR-10 Batch 3:  Loss:     0.3004 Validation Accuracy: 0.680800\n",
      "Epoch  6, CIFAR-10 Batch 4:  Loss:     0.3716 Validation Accuracy: 0.688800\n",
      "Epoch  6, CIFAR-10 Batch 5:  Loss:     0.2720 Validation Accuracy: 0.677000\n",
      "Epoch  7, CIFAR-10 Batch 1:  Loss:     0.3874 Validation Accuracy: 0.687200\n",
      "Epoch  7, CIFAR-10 Batch 2:  Loss:     0.2930 Validation Accuracy: 0.669400\n",
      "Epoch  7, CIFAR-10 Batch 3:  Loss:     0.2395 Validation Accuracy: 0.682400\n",
      "Epoch  7, CIFAR-10 Batch 4:  Loss:     0.3031 Validation Accuracy: 0.693600\n",
      "Epoch  7, CIFAR-10 Batch 5:  Loss:     0.2101 Validation Accuracy: 0.688200\n",
      "Epoch  8, CIFAR-10 Batch 1:  Loss:     0.2660 Validation Accuracy: 0.697600\n",
      "Epoch  8, CIFAR-10 Batch 2:  Loss:     0.2457 Validation Accuracy: 0.687800\n",
      "Epoch  8, CIFAR-10 Batch 3:  Loss:     0.1547 Validation Accuracy: 0.701400\n",
      "Epoch  8, CIFAR-10 Batch 4:  Loss:     0.2526 Validation Accuracy: 0.695200\n",
      "Epoch  8, CIFAR-10 Batch 5:  Loss:     0.1452 Validation Accuracy: 0.720600\n",
      "Epoch  9, CIFAR-10 Batch 1:  Loss:     0.1909 Validation Accuracy: 0.704000\n",
      "Epoch  9, CIFAR-10 Batch 2:  Loss:     0.1828 Validation Accuracy: 0.712200\n",
      "Epoch  9, CIFAR-10 Batch 3:  Loss:     0.1069 Validation Accuracy: 0.712600\n",
      "Epoch  9, CIFAR-10 Batch 4:  Loss:     0.1525 Validation Accuracy: 0.699800\n",
      "Epoch  9, CIFAR-10 Batch 5:  Loss:     0.1055 Validation Accuracy: 0.711600\n",
      "Epoch 10, CIFAR-10 Batch 1:  Loss:     0.1314 Validation Accuracy: 0.716000\n",
      "Epoch 10, CIFAR-10 Batch 2:  Loss:     0.1167 Validation Accuracy: 0.713200\n",
      "Epoch 10, CIFAR-10 Batch 3:  Loss:     0.0855 Validation Accuracy: 0.695000\n",
      "Epoch 10, CIFAR-10 Batch 4:  Loss:     0.1281 Validation Accuracy: 0.707200\n",
      "Epoch 10, CIFAR-10 Batch 5:  Loss:     0.0873 Validation Accuracy: 0.721600\n",
      "Epoch 11, CIFAR-10 Batch 1:  Loss:     0.0905 Validation Accuracy: 0.719400\n",
      "Epoch 11, CIFAR-10 Batch 2:  Loss:     0.0962 Validation Accuracy: 0.704200\n",
      "Epoch 11, CIFAR-10 Batch 3:  Loss:     0.0673 Validation Accuracy: 0.708800\n",
      "Epoch 11, CIFAR-10 Batch 4:  Loss:     0.0789 Validation Accuracy: 0.716000\n",
      "Epoch 11, CIFAR-10 Batch 5:  Loss:     0.0742 Validation Accuracy: 0.709800\n",
      "Epoch 12, CIFAR-10 Batch 1:  Loss:     0.0715 Validation Accuracy: 0.711200\n",
      "Epoch 12, CIFAR-10 Batch 2:  Loss:     0.0855 Validation Accuracy: 0.690800\n",
      "Epoch 12, CIFAR-10 Batch 3:  Loss:     0.0657 Validation Accuracy: 0.717000\n",
      "Epoch 12, CIFAR-10 Batch 4:  Loss:     0.0642 Validation Accuracy: 0.714600\n",
      "Epoch 12, CIFAR-10 Batch 5:  Loss:     0.0486 Validation Accuracy: 0.700600\n",
      "Epoch 13, CIFAR-10 Batch 1:  Loss:     0.0881 Validation Accuracy: 0.704400\n",
      "Epoch 13, CIFAR-10 Batch 2:  Loss:     0.0607 Validation Accuracy: 0.698200\n",
      "Epoch 13, CIFAR-10 Batch 3:  Loss:     0.0453 Validation Accuracy: 0.716600\n",
      "Epoch 13, CIFAR-10 Batch 4:  Loss:     0.0413 Validation Accuracy: 0.722800\n",
      "Epoch 13, CIFAR-10 Batch 5:  Loss:     0.0472 Validation Accuracy: 0.703600\n",
      "Epoch 14, CIFAR-10 Batch 1:  Loss:     0.0577 Validation Accuracy: 0.721200\n",
      "Epoch 14, CIFAR-10 Batch 2:  Loss:     0.0485 Validation Accuracy: 0.718200\n",
      "Epoch 14, CIFAR-10 Batch 3:  Loss:     0.0334 Validation Accuracy: 0.723600\n",
      "Epoch 14, CIFAR-10 Batch 4:  Loss:     0.0320 Validation Accuracy: 0.724800\n",
      "Epoch 14, CIFAR-10 Batch 5:  Loss:     0.0213 Validation Accuracy: 0.721600\n",
      "Epoch 15, CIFAR-10 Batch 1:  Loss:     0.0471 Validation Accuracy: 0.707600\n",
      "Epoch 15, CIFAR-10 Batch 2:  Loss:     0.0368 Validation Accuracy: 0.723600\n",
      "Epoch 15, CIFAR-10 Batch 3:  Loss:     0.0409 Validation Accuracy: 0.718000\n",
      "Epoch 15, CIFAR-10 Batch 4:  Loss:     0.0331 Validation Accuracy: 0.717200\n",
      "Epoch 15, CIFAR-10 Batch 5:  Loss:     0.0150 Validation Accuracy: 0.726400\n",
      "Epoch 16, CIFAR-10 Batch 1:  Loss:     0.0260 Validation Accuracy: 0.715600\n",
      "Epoch 16, CIFAR-10 Batch 2:  Loss:     0.0241 Validation Accuracy: 0.716600\n",
      "Epoch 16, CIFAR-10 Batch 3:  Loss:     0.0226 Validation Accuracy: 0.713200\n",
      "Epoch 16, CIFAR-10 Batch 4:  Loss:     0.0188 Validation Accuracy: 0.725400\n",
      "Epoch 16, CIFAR-10 Batch 5:  Loss:     0.0113 Validation Accuracy: 0.725400\n",
      "Epoch 17, CIFAR-10 Batch 1:  Loss:     0.0297 Validation Accuracy: 0.720000\n",
      "Epoch 17, CIFAR-10 Batch 2:  Loss:     0.0210 Validation Accuracy: 0.716000\n",
      "Epoch 17, CIFAR-10 Batch 3:  Loss:     0.0198 Validation Accuracy: 0.709800\n",
      "Epoch 17, CIFAR-10 Batch 4:  Loss:     0.0186 Validation Accuracy: 0.720400\n",
      "Epoch 17, CIFAR-10 Batch 5:  Loss:     0.0152 Validation Accuracy: 0.732600\n",
      "Epoch 18, CIFAR-10 Batch 1:  Loss:     0.0187 Validation Accuracy: 0.738600\n",
      "Epoch 18, CIFAR-10 Batch 2:  Loss:     0.0167 Validation Accuracy: 0.723200\n",
      "Epoch 18, CIFAR-10 Batch 3:  Loss:     0.0077 Validation Accuracy: 0.717600\n",
      "Epoch 18, CIFAR-10 Batch 4:  Loss:     0.0221 Validation Accuracy: 0.728000\n",
      "Epoch 18, CIFAR-10 Batch 5:  Loss:     0.0140 Validation Accuracy: 0.730600\n",
      "Epoch 19, CIFAR-10 Batch 1:  Loss:     0.0185 Validation Accuracy: 0.723200\n",
      "Epoch 19, CIFAR-10 Batch 2:  Loss:     0.0086 Validation Accuracy: 0.726400\n",
      "Epoch 19, CIFAR-10 Batch 3:  Loss:     0.0163 Validation Accuracy: 0.711800\n",
      "Epoch 19, CIFAR-10 Batch 4:  Loss:     0.0201 Validation Accuracy: 0.721400\n",
      "Epoch 19, CIFAR-10 Batch 5:  Loss:     0.0072 Validation Accuracy: 0.729800\n",
      "Epoch 20, CIFAR-10 Batch 1:  Loss:     0.0069 Validation Accuracy: 0.736800\n",
      "Epoch 20, CIFAR-10 Batch 2:  Loss:     0.0101 Validation Accuracy: 0.713200\n",
      "Epoch 20, CIFAR-10 Batch 3:  Loss:     0.0116 Validation Accuracy: 0.715600\n",
      "Epoch 20, CIFAR-10 Batch 4:  Loss:     0.0207 Validation Accuracy: 0.720200\n",
      "Epoch 20, CIFAR-10 Batch 5:  Loss:     0.0080 Validation Accuracy: 0.712200\n",
      "Epoch 21, CIFAR-10 Batch 1:  Loss:     0.0080 Validation Accuracy: 0.723600\n",
      "Epoch 21, CIFAR-10 Batch 2:  Loss:     0.0044 Validation Accuracy: 0.711600\n",
      "Epoch 21, CIFAR-10 Batch 3:  Loss:     0.0053 Validation Accuracy: 0.723600\n",
      "Epoch 21, CIFAR-10 Batch 4:  Loss:     0.0225 Validation Accuracy: 0.713000\n",
      "Epoch 21, CIFAR-10 Batch 5:  Loss:     0.0049 Validation Accuracy: 0.732200\n",
      "Epoch 22, CIFAR-10 Batch 1:  Loss:     0.0089 Validation Accuracy: 0.736400\n",
      "Epoch 22, CIFAR-10 Batch 2:  Loss:     0.0076 Validation Accuracy: 0.717000\n",
      "Epoch 22, CIFAR-10 Batch 3:  Loss:     0.0043 Validation Accuracy: 0.728800\n"
     ]
    },
    {
     "name": "stdout",
     "output_type": "stream",
     "text": [
      "Epoch 22, CIFAR-10 Batch 4:  Loss:     0.0062 Validation Accuracy: 0.727000\n",
      "Epoch 22, CIFAR-10 Batch 5:  Loss:     0.0035 Validation Accuracy: 0.726200\n",
      "Epoch 23, CIFAR-10 Batch 1:  Loss:     0.0059 Validation Accuracy: 0.722400\n",
      "Epoch 23, CIFAR-10 Batch 2:  Loss:     0.0019 Validation Accuracy: 0.733600\n",
      "Epoch 23, CIFAR-10 Batch 3:  Loss:     0.0029 Validation Accuracy: 0.724600\n",
      "Epoch 23, CIFAR-10 Batch 4:  Loss:     0.0024 Validation Accuracy: 0.728000\n",
      "Epoch 23, CIFAR-10 Batch 5:  Loss:     0.0032 Validation Accuracy: 0.726600\n",
      "Epoch 24, CIFAR-10 Batch 1:  Loss:     0.0046 Validation Accuracy: 0.706400\n",
      "Epoch 24, CIFAR-10 Batch 2:  Loss:     0.0098 Validation Accuracy: 0.723000\n",
      "Epoch 24, CIFAR-10 Batch 3:  Loss:     0.0026 Validation Accuracy: 0.725000\n",
      "Epoch 24, CIFAR-10 Batch 4:  Loss:     0.0024 Validation Accuracy: 0.735800\n",
      "Epoch 24, CIFAR-10 Batch 5:  Loss:     0.0086 Validation Accuracy: 0.728000\n",
      "Epoch 25, CIFAR-10 Batch 1:  Loss:     0.0042 Validation Accuracy: 0.719800\n",
      "Epoch 25, CIFAR-10 Batch 2:  Loss:     0.0039 Validation Accuracy: 0.721800\n",
      "Epoch 25, CIFAR-10 Batch 3:  Loss:     0.0036 Validation Accuracy: 0.724600\n",
      "Epoch 25, CIFAR-10 Batch 4:  Loss:     0.0079 Validation Accuracy: 0.723400\n",
      "Epoch 25, CIFAR-10 Batch 5:  Loss:     0.0073 Validation Accuracy: 0.716400\n",
      "Epoch 26, CIFAR-10 Batch 1:  Loss:     0.0022 Validation Accuracy: 0.723600\n",
      "Epoch 26, CIFAR-10 Batch 2:  Loss:     0.0027 Validation Accuracy: 0.735600\n",
      "Epoch 26, CIFAR-10 Batch 3:  Loss:     0.0040 Validation Accuracy: 0.712200\n",
      "Epoch 26, CIFAR-10 Batch 4:  Loss:     0.0031 Validation Accuracy: 0.727800\n",
      "Epoch 26, CIFAR-10 Batch 5:  Loss:     0.0030 Validation Accuracy: 0.723400\n",
      "Epoch 27, CIFAR-10 Batch 1:  Loss:     0.0042 Validation Accuracy: 0.720400\n",
      "Epoch 27, CIFAR-10 Batch 2:  Loss:     0.0023 Validation Accuracy: 0.739600\n",
      "Epoch 27, CIFAR-10 Batch 3:  Loss:     0.0012 Validation Accuracy: 0.720000\n",
      "Epoch 27, CIFAR-10 Batch 4:  Loss:     0.0043 Validation Accuracy: 0.725200\n",
      "Epoch 27, CIFAR-10 Batch 5:  Loss:     0.0020 Validation Accuracy: 0.714600\n",
      "Epoch 28, CIFAR-10 Batch 1:  Loss:     0.0015 Validation Accuracy: 0.711600\n",
      "Epoch 28, CIFAR-10 Batch 2:  Loss:     0.0011 Validation Accuracy: 0.733600\n",
      "Epoch 28, CIFAR-10 Batch 3:  Loss:     0.0025 Validation Accuracy: 0.707200\n",
      "Epoch 28, CIFAR-10 Batch 4:  Loss:     0.0023 Validation Accuracy: 0.722800\n",
      "Epoch 28, CIFAR-10 Batch 5:  Loss:     0.0008 Validation Accuracy: 0.722400\n",
      "Epoch 29, CIFAR-10 Batch 1:  Loss:     0.0014 Validation Accuracy: 0.721600\n",
      "Epoch 29, CIFAR-10 Batch 2:  Loss:     0.0011 Validation Accuracy: 0.723600\n",
      "Epoch 29, CIFAR-10 Batch 3:  Loss:     0.0002 Validation Accuracy: 0.726000\n",
      "Epoch 29, CIFAR-10 Batch 4:  Loss:     0.0134 Validation Accuracy: 0.711600\n",
      "Epoch 29, CIFAR-10 Batch 5:  Loss:     0.0009 Validation Accuracy: 0.724800\n",
      "Epoch 30, CIFAR-10 Batch 1:  Loss:     0.0004 Validation Accuracy: 0.724400\n",
      "Epoch 30, CIFAR-10 Batch 2:  Loss:     0.0017 Validation Accuracy: 0.722000\n",
      "Epoch 30, CIFAR-10 Batch 3:  Loss:     0.0005 Validation Accuracy: 0.717800\n",
      "Epoch 30, CIFAR-10 Batch 4:  Loss:     0.0013 Validation Accuracy: 0.720000\n",
      "Epoch 30, CIFAR-10 Batch 5:  Loss:     0.0029 Validation Accuracy: 0.728400\n",
      "Epoch 31, CIFAR-10 Batch 1:  Loss:     0.0024 Validation Accuracy: 0.719400\n",
      "Epoch 31, CIFAR-10 Batch 2:  Loss:     0.0011 Validation Accuracy: 0.712800\n",
      "Epoch 31, CIFAR-10 Batch 3:  Loss:     0.0014 Validation Accuracy: 0.711800\n",
      "Epoch 31, CIFAR-10 Batch 4:  Loss:     0.0063 Validation Accuracy: 0.713400\n",
      "Epoch 31, CIFAR-10 Batch 5:  Loss:     0.0005 Validation Accuracy: 0.715200\n",
      "Epoch 32, CIFAR-10 Batch 1:  Loss:     0.0033 Validation Accuracy: 0.724400\n",
      "Epoch 32, CIFAR-10 Batch 2:  Loss:     0.0019 Validation Accuracy: 0.707600\n",
      "Epoch 32, CIFAR-10 Batch 3:  Loss:     0.0013 Validation Accuracy: 0.725800\n",
      "Epoch 32, CIFAR-10 Batch 4:  Loss:     0.0016 Validation Accuracy: 0.718800\n",
      "Epoch 32, CIFAR-10 Batch 5:  Loss:     0.0008 Validation Accuracy: 0.714800\n",
      "Epoch 33, CIFAR-10 Batch 1:  Loss:     0.0014 Validation Accuracy: 0.724600\n",
      "Epoch 33, CIFAR-10 Batch 2:  Loss:     0.0010 Validation Accuracy: 0.718200\n",
      "Epoch 33, CIFAR-10 Batch 3:  Loss:     0.0007 Validation Accuracy: 0.731200\n",
      "Epoch 33, CIFAR-10 Batch 4:  Loss:     0.0009 Validation Accuracy: 0.719200\n",
      "Epoch 33, CIFAR-10 Batch 5:  Loss:     0.0011 Validation Accuracy: 0.722200\n",
      "Epoch 34, CIFAR-10 Batch 1:  Loss:     0.0014 Validation Accuracy: 0.725400\n",
      "Epoch 34, CIFAR-10 Batch 2:  Loss:     0.0005 Validation Accuracy: 0.717200\n",
      "Epoch 34, CIFAR-10 Batch 3:  Loss:     0.0009 Validation Accuracy: 0.731200\n",
      "Epoch 34, CIFAR-10 Batch 4:  Loss:     0.0014 Validation Accuracy: 0.698600\n",
      "Epoch 34, CIFAR-10 Batch 5:  Loss:     0.0026 Validation Accuracy: 0.720800\n",
      "Epoch 35, CIFAR-10 Batch 1:  Loss:     0.0008 Validation Accuracy: 0.716200\n",
      "Epoch 35, CIFAR-10 Batch 2:  Loss:     0.0006 Validation Accuracy: 0.720000\n",
      "Epoch 35, CIFAR-10 Batch 3:  Loss:     0.0004 Validation Accuracy: 0.732600\n",
      "Epoch 35, CIFAR-10 Batch 4:  Loss:     0.0009 Validation Accuracy: 0.722200\n",
      "Epoch 35, CIFAR-10 Batch 5:  Loss:     0.0010 Validation Accuracy: 0.708600\n",
      "Epoch 36, CIFAR-10 Batch 1:  Loss:     0.0028 Validation Accuracy: 0.724000\n",
      "Epoch 36, CIFAR-10 Batch 2:  Loss:     0.0010 Validation Accuracy: 0.726400\n",
      "Epoch 36, CIFAR-10 Batch 3:  Loss:     0.0005 Validation Accuracy: 0.724800\n",
      "Epoch 36, CIFAR-10 Batch 4:  Loss:     0.0002 Validation Accuracy: 0.737600\n",
      "Epoch 36, CIFAR-10 Batch 5:  Loss:     0.0011 Validation Accuracy: 0.717000\n",
      "Epoch 37, CIFAR-10 Batch 1:  Loss:     0.0010 Validation Accuracy: 0.721000\n",
      "Epoch 37, CIFAR-10 Batch 2:  Loss:     0.0003 Validation Accuracy: 0.719400\n",
      "Epoch 37, CIFAR-10 Batch 3:  Loss:     0.0005 Validation Accuracy: 0.732600\n",
      "Epoch 37, CIFAR-10 Batch 4:  Loss:     0.0006 Validation Accuracy: 0.724600\n",
      "Epoch 37, CIFAR-10 Batch 5:  Loss:     0.0005 Validation Accuracy: 0.718200\n",
      "Epoch 38, CIFAR-10 Batch 1:  Loss:     0.0008 Validation Accuracy: 0.724600\n",
      "Epoch 38, CIFAR-10 Batch 2:  Loss:     0.0005 Validation Accuracy: 0.737200\n",
      "Epoch 38, CIFAR-10 Batch 3:  Loss:     0.0004 Validation Accuracy: 0.737200\n",
      "Epoch 38, CIFAR-10 Batch 4:  Loss:     0.0014 Validation Accuracy: 0.726800\n",
      "Epoch 38, CIFAR-10 Batch 5:  Loss:     0.0007 Validation Accuracy: 0.714400\n",
      "Epoch 39, CIFAR-10 Batch 1:  Loss:     0.0004 Validation Accuracy: 0.733200\n",
      "Epoch 39, CIFAR-10 Batch 2:  Loss:     0.0002 Validation Accuracy: 0.737600\n",
      "Epoch 39, CIFAR-10 Batch 3:  Loss:     0.0007 Validation Accuracy: 0.727000\n",
      "Epoch 39, CIFAR-10 Batch 4:  Loss:     0.0002 Validation Accuracy: 0.731600\n",
      "Epoch 39, CIFAR-10 Batch 5:  Loss:     0.0002 Validation Accuracy: 0.725200\n",
      "Epoch 40, CIFAR-10 Batch 1:  Loss:     0.0002 Validation Accuracy: 0.730200\n",
      "Epoch 40, CIFAR-10 Batch 2:  Loss:     0.0001 Validation Accuracy: 0.730000\n",
      "Epoch 40, CIFAR-10 Batch 3:  Loss:     0.0002 Validation Accuracy: 0.737800\n",
      "Epoch 40, CIFAR-10 Batch 4:  Loss:     0.0002 Validation Accuracy: 0.732600\n",
      "Epoch 40, CIFAR-10 Batch 5:  Loss:     0.0003 Validation Accuracy: 0.720200\n"
     ]
    }
   ],
   "source": [
    "\"\"\"\n",
    "DON'T MODIFY ANYTHING IN THIS CELL\n",
    "\"\"\"\n",
    "save_model_path = './image_classification'\n",
    "\n",
    "print('Training...')\n",
    "with tf.Session() as sess:\n",
    "    # Initializing the variables\n",
    "    sess.run(tf.global_variables_initializer())\n",
    "    \n",
    "    # Training cycle\n",
    "    for epoch in range(epochs):\n",
    "        # Loop over all batches\n",
    "        n_batches = 5\n",
    "        for batch_i in range(1, n_batches + 1):\n",
    "            for batch_features, batch_labels in helper.load_preprocess_training_batch(batch_i, batch_size):\n",
    "                train_neural_network(sess, optimizer, keep_probability, batch_features, batch_labels)\n",
    "            print('Epoch {:>2}, CIFAR-10 Batch {}:  '.format(epoch + 1, batch_i), end='')\n",
    "            print_stats(sess, batch_features, batch_labels, cost, accuracy)\n",
    "            \n",
    "    # Save Model\n",
    "    saver = tf.train.Saver()\n",
    "    save_path = saver.save(sess, save_model_path)"
   ]
  },
  {
   "cell_type": "markdown",
   "metadata": {},
   "source": [
    "# Checkpoint\n",
    "The model has been saved to disk.\n",
    "## Test Model\n",
    "Test your model against the test dataset.  This will be your final accuracy. You should have an accuracy greater than 50%. If you don't, keep tweaking the model architecture and parameters."
   ]
  },
  {
   "cell_type": "code",
   "execution_count": 150,
   "metadata": {},
   "outputs": [
    {
     "name": "stdout",
     "output_type": "stream",
     "text": [
      "INFO:tensorflow:Restoring parameters from ./image_classification\n",
      "Testing Accuracy: 0.715625\n",
      "\n"
     ]
    },
    {
     "data": {
      "image/png": "[encoded data removed]",
      "text/plain": [
       "<matplotlib.figure.Figure at 0x7fbbcbee2198>"
      ]
     },
     "metadata": {
      "image/png": {
       "height": 319,
       "width": 355
      }
     },
     "output_type": "display_data"
    }
   ],
   "source": [
    "\"\"\"\n",
    "DON'T MODIFY ANYTHING IN THIS CELL\n",
    "\"\"\"\n",
    "%matplotlib inline\n",
    "%config InlineBackend.figure_format = 'retina'\n",
    "\n",
    "import tensorflow as tf\n",
    "import pickle\n",
    "import helper\n",
    "import random\n",
    "\n",
    "# Set batch size if not already set\n",
    "try:\n",
    "    if batch_size:\n",
    "        pass\n",
    "except NameError:\n",
    "    batch_size = 64\n",
    "\n",
    "save_model_path = './image_classification'\n",
    "n_samples = 4\n",
    "top_n_predictions = 3\n",
    "\n",
    "def test_model():\n",
    "    \"\"\"\n",
    "    Test the saved model against the test dataset\n",
    "    \"\"\"\n",
    "\n",
    "    test_features, test_labels = pickle.load(open('preprocess_training.p', mode='rb'))\n",
    "    loaded_graph = tf.Graph()\n",
    "\n",
    "    with tf.Session(graph=loaded_graph) as sess:\n",
    "        # Load model\n",
    "        loader = tf.train.import_meta_graph(save_model_path + '.meta')\n",
    "        loader.restore(sess, save_model_path)\n",
    "\n",
    "        # Get Tensors from loaded model\n",
    "        loaded_x = loaded_graph.get_tensor_by_name('x:0')\n",
    "        loaded_y = loaded_graph.get_tensor_by_name('y:0')\n",
    "        loaded_keep_prob = loaded_graph.get_tensor_by_name('keep_prob:0')\n",
    "        loaded_logits = loaded_graph.get_tensor_by_name('logits:0')\n",
    "        loaded_acc = loaded_graph.get_tensor_by_name('accuracy:0')\n",
    "        \n",
    "        # Get accuracy in batches for memory limitations\n",
    "        test_batch_acc_total = 0\n",
    "        test_batch_count = 0\n",
    "        \n",
    "        for train_feature_batch, train_label_batch in helper.batch_features_labels(test_features, test_labels, batch_size):\n",
    "            test_batch_acc_total += sess.run(\n",
    "                loaded_acc,\n",
    "                feed_dict={loaded_x: train_feature_batch, loaded_y: train_label_batch, loaded_keep_prob: 1.0})\n",
    "            test_batch_count += 1\n",
    "\n",
    "        print('Testing Accuracy: {}\\n'.format(test_batch_acc_total/test_batch_count))\n",
    "\n",
    "        # Print Random Samples\n",
    "        random_test_features, random_test_labels = tuple(zip(*random.sample(list(zip(test_features, test_labels)), n_samples)))\n",
    "        random_test_predictions = sess.run(\n",
    "            tf.nn.top_k(tf.nn.softmax(loaded_logits), top_n_predictions),\n",
    "            feed_dict={loaded_x: random_test_features, loaded_y: random_test_labels, loaded_keep_prob: 1.0})\n",
    "        helper.display_image_predictions(random_test_features, random_test_labels, random_test_predictions)\n",
    "\n",
    "\n",
    "test_model()"
   ]
  },
  {
   "cell_type": "markdown",
   "metadata": {},
   "source": [
    "## Why 50-70% Accuracy?\n",
    "You might be wondering why you can't get an accuracy any higher. First things first, 50% isn't bad for a simple CNN.  Pure guessing would get you 10% accuracy. However, you might notice people are getting scores [well above 70%](http://rodrigob.github.io/are_we_there_yet/build/classification_datasets_results.html#43494641522d3130).  That's because we haven't taught you all there is to know about neural networks. We still need to cover a few more techniques.\n",
    "## Submitting This Project\n",
    "When submitting this project, make sure to run all the cells before saving the notebook.  Save the notebook file as \"dlnd_image_classification.ipynb\" and save it as a HTML file under \"File\" -> \"Download as\".  Include the \"helper.py\" and \"problem_unittests.py\" files in your submission."
   ]
  }
 ],
 "metadata": {
  "kernelspec": {
   "display_name": "Python 3",
   "language": "python",
   "name": "python3"
  },
  "language_info": {
   "codemirror_mode": {
    "name": "ipython",
    "version": 3
   },
   "file_extension": ".py",
   "mimetype": "text/x-python",
   "name": "python",
   "nbconvert_exporter": "python",
   "pygments_lexer": "ipython3",
   "version": "3.5.3"
  }
 },
 "nbformat": 4,
 "nbformat_minor": 1
}
